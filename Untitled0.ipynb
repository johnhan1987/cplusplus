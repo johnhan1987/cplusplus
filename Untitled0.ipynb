{
 "metadata": {
  "name": ""
 },
 "nbformat": 3,
 "nbformat_minor": 0,
 "worksheets": [
  {
   "cells": [
    {
     "cell_type": "code",
     "collapsed": false,
     "input": [
      "class cName:\n",
      "    count=0\n",
      "    def __init__(self, name, age):\n",
      "        self.name = name\n",
      "        self.age = age\n",
      "        cName.count+=1\n",
      "        \n",
      "o1=cName(\"John\", 26)"
     ],
     "language": "python",
     "metadata": {},
     "outputs": [],
     "prompt_number": 3
    },
    {
     "cell_type": "code",
     "collapsed": false,
     "input": [
      "class Character(object):\n",
      "    def __init__(self):\n",
      "        self.health = 100\n",
      "class blacksmith(Character):\n",
      "    def __init__(self):\n",
      "        super(blacksmith, self).__init__()\n",
      "        \n",
      "bs=blacksmith()\n",
      "print bs.health"
     ],
     "language": "python",
     "metadata": {},
     "outputs": [
      {
       "output_type": "stream",
       "stream": "stdout",
       "text": [
        "100\n"
       ]
      }
     ],
     "prompt_number": 5
    }
   ],
   "metadata": {}
  }
 ]
}